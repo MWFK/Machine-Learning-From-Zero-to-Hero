{
  "nbformat": 4,
  "nbformat_minor": 0,
  "metadata": {
    "colab": {
      "name": "Regression Algos for Stock Prices .ipynb",
      "provenance": [],
      "authorship_tag": "ABX9TyNlEyt0Gib+oGcqmEyC5xEF",
      "include_colab_link": true
    },
    "kernelspec": {
      "name": "python3",
      "display_name": "Python 3"
    }
  },
  "cells": [
    {
      "cell_type": "markdown",
      "metadata": {
        "id": "view-in-github",
        "colab_type": "text"
      },
      "source": [
        "<a href=\"https://colab.research.google.com/github/MWFK/Machine-Learning-From-Zero-to-Hero/blob/main/Regression_Algos_for_Stock_Prices_.ipynb\" target=\"_parent\"><img src=\"https://colab.research.google.com/assets/colab-badge.svg\" alt=\"Open In Colab\"/></a>"
      ]
    },
    {
      "cell_type": "markdown",
      "metadata": {
        "id": "ztp3ypSHaPbd"
      },
      "source": [
        "# TunisAir_2020_Stock_Prices\r\n",
        "In this notebook we'll try to predict TunisAir stock prices based on Scrapped data of 2020 from ilboursa.com\r\n",
        "\r\n",
        "We'll use different algos, and try to compare the results.\r\n",
        "\r\n",
        "This notebook is for academical purposes only (basic introductory level), so please do not consider it for real live trading."
      ]
    },
    {
      "cell_type": "markdown",
      "metadata": {
        "id": "siGM1QV6fhXc"
      },
      "source": [
        "# Import Libs"
      ]
    },
    {
      "cell_type": "code",
      "metadata": {
        "id": "mA-FobHofhJ1"
      },
      "source": [
        "import pandas as pd\r\n",
        "import numpy as np\r\n",
        "from sklearn.model_selection import train_test_split\r\n",
        "from sklearn.linear_model import LinearRegression\r\n",
        "from sklearn.tree import DecisionTreeRegressor\r\n",
        "from sklearn.ensemble import RandomForestRegressor\r\n",
        "from sklearn import metrics\r\n",
        "import datetime"
      ],
      "execution_count": 12,
      "outputs": []
    },
    {
      "cell_type": "markdown",
      "metadata": {
        "id": "56emZgQ5bpUt"
      },
      "source": [
        "# Import Data"
      ]
    },
    {
      "cell_type": "code",
      "metadata": {
        "colab": {
          "base_uri": "https://localhost:8080/",
          "height": 206
        },
        "id": "s0I6czNaZhBj",
        "outputId": "c5f2950f-aa3f-4a90-c973-2176a5157f1a"
      },
      "source": [
        "data = pd.read_csv('https://raw.githubusercontent.com/MWFK/Machine-Learning-From-Zero-to-Hero/main/TunisAir_2020_Stock_Prices.csv', sep=\";\", decimal=\",\" ) #sep = delimiter\r\n",
        "data.head()"
      ],
      "execution_count": 39,
      "outputs": [
        {
          "output_type": "execute_result",
          "data": {
            "text/html": [
              "<div>\n",
              "<style scoped>\n",
              "    .dataframe tbody tr th:only-of-type {\n",
              "        vertical-align: middle;\n",
              "    }\n",
              "\n",
              "    .dataframe tbody tr th {\n",
              "        vertical-align: top;\n",
              "    }\n",
              "\n",
              "    .dataframe thead th {\n",
              "        text-align: right;\n",
              "    }\n",
              "</style>\n",
              "<table border=\"1\" class=\"dataframe\">\n",
              "  <thead>\n",
              "    <tr style=\"text-align: right;\">\n",
              "      <th></th>\n",
              "      <th>symbole</th>\n",
              "      <th>date</th>\n",
              "      <th>ouverture</th>\n",
              "      <th>haut</th>\n",
              "      <th>bas</th>\n",
              "      <th>cloture</th>\n",
              "      <th>volume</th>\n",
              "    </tr>\n",
              "  </thead>\n",
              "  <tbody>\n",
              "    <tr>\n",
              "      <th>0</th>\n",
              "      <td>TAIR</td>\n",
              "      <td>02/01/2020</td>\n",
              "      <td>0.63</td>\n",
              "      <td>0.63</td>\n",
              "      <td>0.62</td>\n",
              "      <td>0.63</td>\n",
              "      <td>13391</td>\n",
              "    </tr>\n",
              "    <tr>\n",
              "      <th>1</th>\n",
              "      <td>TAIR</td>\n",
              "      <td>03/01/2020</td>\n",
              "      <td>0.63</td>\n",
              "      <td>0.63</td>\n",
              "      <td>0.62</td>\n",
              "      <td>0.62</td>\n",
              "      <td>22163</td>\n",
              "    </tr>\n",
              "    <tr>\n",
              "      <th>2</th>\n",
              "      <td>TAIR</td>\n",
              "      <td>06/01/2020</td>\n",
              "      <td>0.63</td>\n",
              "      <td>0.63</td>\n",
              "      <td>0.59</td>\n",
              "      <td>0.60</td>\n",
              "      <td>124299</td>\n",
              "    </tr>\n",
              "    <tr>\n",
              "      <th>3</th>\n",
              "      <td>TAIR</td>\n",
              "      <td>07/01/2020</td>\n",
              "      <td>0.60</td>\n",
              "      <td>0.60</td>\n",
              "      <td>0.59</td>\n",
              "      <td>0.59</td>\n",
              "      <td>69788</td>\n",
              "    </tr>\n",
              "    <tr>\n",
              "      <th>4</th>\n",
              "      <td>TAIR</td>\n",
              "      <td>08/01/2020</td>\n",
              "      <td>0.59</td>\n",
              "      <td>0.59</td>\n",
              "      <td>0.58</td>\n",
              "      <td>0.59</td>\n",
              "      <td>60144</td>\n",
              "    </tr>\n",
              "  </tbody>\n",
              "</table>\n",
              "</div>"
            ],
            "text/plain": [
              "  symbole        date  ouverture  haut   bas  cloture  volume\n",
              "0    TAIR  02/01/2020       0.63  0.63  0.62     0.63   13391\n",
              "1    TAIR  03/01/2020       0.63  0.63  0.62     0.62   22163\n",
              "2    TAIR  06/01/2020       0.63  0.63  0.59     0.60  124299\n",
              "3    TAIR  07/01/2020       0.60  0.60  0.59     0.59   69788\n",
              "4    TAIR  08/01/2020       0.59  0.59  0.58     0.59   60144"
            ]
          },
          "metadata": {
            "tags": []
          },
          "execution_count": 39
        }
      ]
    },
    {
      "cell_type": "markdown",
      "metadata": {
        "id": "xMqQJEtDfF_-"
      },
      "source": [
        "# Processing"
      ]
    },
    {
      "cell_type": "code",
      "metadata": {
        "colab": {
          "base_uri": "https://localhost:8080/",
          "height": 206
        },
        "id": "gIJAkCQyb5_a",
        "outputId": "230eb537-853a-4935-b37f-bcccedc72d96"
      },
      "source": [
        "# convert the pandas dataframe feature data type from TimeStamp to Date\r\n",
        "# data['date'] = data['date'].apply(lambda x:x.toordinal())\r\n",
        "# data['date'] = pd.to_datetime(data['date'], format='DD/MM/YY')\r\n",
        "\r\n",
        "#data['ouverture'] = data['ouverture'].astype(float)\r\n",
        "#data['ouverture'] = pd.to_numeric(data['ouverture'])\r\n",
        "#data['haut'] = data['haut'].astype(float)\r\n",
        "#data['bas'] = data['bas'].astype(float)\r\n",
        "\r\n",
        "x = data.iloc[:,2:5]  # we do not start with the firt feature, because it has the name of the stock      \r\n",
        "x.head()"
      ],
      "execution_count": 46,
      "outputs": [
        {
          "output_type": "execute_result",
          "data": {
            "text/html": [
              "<div>\n",
              "<style scoped>\n",
              "    .dataframe tbody tr th:only-of-type {\n",
              "        vertical-align: middle;\n",
              "    }\n",
              "\n",
              "    .dataframe tbody tr th {\n",
              "        vertical-align: top;\n",
              "    }\n",
              "\n",
              "    .dataframe thead th {\n",
              "        text-align: right;\n",
              "    }\n",
              "</style>\n",
              "<table border=\"1\" class=\"dataframe\">\n",
              "  <thead>\n",
              "    <tr style=\"text-align: right;\">\n",
              "      <th></th>\n",
              "      <th>ouverture</th>\n",
              "      <th>haut</th>\n",
              "      <th>bas</th>\n",
              "    </tr>\n",
              "  </thead>\n",
              "  <tbody>\n",
              "    <tr>\n",
              "      <th>0</th>\n",
              "      <td>0.63</td>\n",
              "      <td>0.63</td>\n",
              "      <td>0.62</td>\n",
              "    </tr>\n",
              "    <tr>\n",
              "      <th>1</th>\n",
              "      <td>0.63</td>\n",
              "      <td>0.63</td>\n",
              "      <td>0.62</td>\n",
              "    </tr>\n",
              "    <tr>\n",
              "      <th>2</th>\n",
              "      <td>0.63</td>\n",
              "      <td>0.63</td>\n",
              "      <td>0.59</td>\n",
              "    </tr>\n",
              "    <tr>\n",
              "      <th>3</th>\n",
              "      <td>0.60</td>\n",
              "      <td>0.60</td>\n",
              "      <td>0.59</td>\n",
              "    </tr>\n",
              "    <tr>\n",
              "      <th>4</th>\n",
              "      <td>0.59</td>\n",
              "      <td>0.59</td>\n",
              "      <td>0.58</td>\n",
              "    </tr>\n",
              "  </tbody>\n",
              "</table>\n",
              "</div>"
            ],
            "text/plain": [
              "   ouverture  haut   bas\n",
              "0       0.63  0.63  0.62\n",
              "1       0.63  0.63  0.62\n",
              "2       0.63  0.63  0.59\n",
              "3       0.60  0.60  0.59\n",
              "4       0.59  0.59  0.58"
            ]
          },
          "metadata": {
            "tags": []
          },
          "execution_count": 46
        }
      ]
    },
    {
      "cell_type": "code",
      "metadata": {
        "colab": {
          "base_uri": "https://localhost:8080/"
        },
        "id": "lhW7yGZ8fXld",
        "outputId": "521b50d2-fa8f-4867-f4f8-fc0702358629"
      },
      "source": [
        "y = data.cloture # we're going to predict the closing prices of the TAIR\r\n",
        "y.head()"
      ],
      "execution_count": 48,
      "outputs": [
        {
          "output_type": "execute_result",
          "data": {
            "text/plain": [
              "0    0.63\n",
              "1    0.62\n",
              "2    0.60\n",
              "3    0.59\n",
              "4    0.59\n",
              "Name: cloture, dtype: float64"
            ]
          },
          "metadata": {
            "tags": []
          },
          "execution_count": 48
        }
      ]
    },
    {
      "cell_type": "code",
      "metadata": {
        "colab": {
          "base_uri": "https://localhost:8080/"
        },
        "id": "5iMCuS2ZhGuM",
        "outputId": "33df40c6-78c1-47dc-fad0-9b7fba6298b1"
      },
      "source": [
        "# Split the data \r\n",
        "X_train, X_test, y_train, y_test = train_test_split(x, y, test_size=0.2, random_state=73) # random_state to reproduce the same result, and test size will the 33% of the train data\r\n",
        "print(\"X_train = \",X_train.shape)\r\n",
        "print(\"y_train\",y_train.shape)\r\n",
        "print(\"X_test = \",X_test.shape)\r\n",
        "print(\"y_test\",y_test.shape)"
      ],
      "execution_count": 49,
      "outputs": [
        {
          "output_type": "stream",
          "text": [
            "X_train =  (196, 3)\n",
            "y_train (196,)\n",
            "X_test =  (49, 3)\n",
            "y_test (49,)\n"
          ],
          "name": "stdout"
        }
      ]
    },
    {
      "cell_type": "markdown",
      "metadata": {
        "id": "HB7YyKGviFJm"
      },
      "source": [
        "# Linear Regression"
      ]
    },
    {
      "cell_type": "code",
      "metadata": {
        "id": "NnHmsRfThY3k"
      },
      "source": [
        "# Create a basic linear model\r\n",
        "lr = LinearRegression()\r\n",
        "lr_model = lr.fit(X_train, y_train)"
      ],
      "execution_count": 50,
      "outputs": []
    },
    {
      "cell_type": "code",
      "metadata": {
        "colab": {
          "base_uri": "https://localhost:8080/"
        },
        "id": "fDD2x03KiVka",
        "outputId": "c1fde166-0bfe-4d6f-8c69-a77d4e1eb4a6"
      },
      "source": [
        "# Predict the stock prices\r\n",
        "y_pred_lr = lr_model.predict(X_test) \r\n",
        "y_pred_lr"
      ],
      "execution_count": 51,
      "outputs": [
        {
          "output_type": "execute_result",
          "data": {
            "text/plain": [
              "array([0.58174284, 0.69521019, 0.57200118, 0.62750515, 0.62414203,\n",
              "       0.58517539, 0.60465871, 0.56232895, 0.64026221, 0.60465871,\n",
              "       0.58517539, 0.59828018, 0.62070948, 0.58853852, 0.61048125,\n",
              "       0.60122616, 0.57543373, 0.62750515, 0.57837971, 0.60122616,\n",
              "       0.57837971, 0.58517539, 0.56863806, 0.54284563, 0.5588964 ,\n",
              "       0.56569208, 0.57543373, 0.58517539, 0.54915474, 0.60500644,\n",
              "       0.64993445, 0.59491705, 0.62708801, 0.52336231, 0.63045113,\n",
              "       0.58756538, 0.5914845 , 0.59786303, 0.58517539, 0.62070948,\n",
              "       0.64019279, 0.6177635 , 0.61096782, 0.57837971, 0.63381426,\n",
              "       0.62365546, 0.59786303, 0.56232895, 0.58517539])"
            ]
          },
          "metadata": {
            "tags": []
          },
          "execution_count": 51
        }
      ]
    },
    {
      "cell_type": "code",
      "metadata": {
        "colab": {
          "base_uri": "https://localhost:8080/"
        },
        "id": "LAA5aE5XmMfA",
        "outputId": "37034175-95c3-4a1d-ebb5-4b16f1aa6bc7"
      },
      "source": [
        "# Prediction Evaluation\r\n",
        "print('LR')\r\n",
        "print('Mean Absolute Error:', metrics.mean_absolute_error(y_test, y_pred_lr))  \r\n",
        "print('Mean Squared Error:', metrics.mean_squared_error(y_test, y_pred_lr))  \r\n",
        "print('Root Mean Squared Error:', np.sqrt(metrics.mean_squared_error(y_test, y_pred_lr))) "
      ],
      "execution_count": 52,
      "outputs": [
        {
          "output_type": "stream",
          "text": [
            "LR\n",
            "Mean Absolute Error: 0.00551824048033516\n",
            "Mean Squared Error: 4.1706624086361904e-05\n",
            "Root Mean Squared Error: 0.00645806659042487\n"
          ],
          "name": "stdout"
        }
      ]
    },
    {
      "cell_type": "markdown",
      "metadata": {
        "id": "JxhuRSs5mzxE"
      },
      "source": [
        "# DTR model"
      ]
    },
    {
      "cell_type": "code",
      "metadata": {
        "id": "9kz7I2eUm3fS"
      },
      "source": [
        "dtr = DecisionTreeRegressor()  \r\n",
        "dtr_model = dtr.fit(X_train, y_train)"
      ],
      "execution_count": 53,
      "outputs": []
    },
    {
      "cell_type": "code",
      "metadata": {
        "colab": {
          "base_uri": "https://localhost:8080/"
        },
        "id": "OvNezb-cm5z-",
        "outputId": "028edcff-511d-40e0-fa7f-2ecfaadd3a58"
      },
      "source": [
        "y_pred_dtr = dtr_model.predict(X_test) \r\n",
        "y_pred_dtr"
      ],
      "execution_count": 54,
      "outputs": [
        {
          "output_type": "execute_result",
          "data": {
            "text/plain": [
              "array([0.586     , 0.71      , 0.574     , 0.63666667, 0.62666667,\n",
              "       0.584     , 0.60583333, 0.56      , 0.65      , 0.60583333,\n",
              "       0.584     , 0.59666667, 0.62      , 0.59      , 0.61      ,\n",
              "       0.6       , 0.57625   , 0.63666667, 0.575     , 0.6       ,\n",
              "       0.575     , 0.584     , 0.565     , 0.54      , 0.55      ,\n",
              "       0.57      , 0.57625   , 0.584     , 0.545     , 0.61      ,\n",
              "       0.64      , 0.59571429, 0.62666667, 0.53      , 0.63666667,\n",
              "       0.586     , 0.586     , 0.59666667, 0.584     , 0.62      ,\n",
              "       0.63      , 0.61      , 0.61      , 0.575     , 0.63666667,\n",
              "       0.63      , 0.59666667, 0.56      , 0.584     ])"
            ]
          },
          "metadata": {
            "tags": []
          },
          "execution_count": 54
        }
      ]
    },
    {
      "cell_type": "code",
      "metadata": {
        "colab": {
          "base_uri": "https://localhost:8080/"
        },
        "id": "MPTL5_YBm72Y",
        "outputId": "50f02577-c203-4e7f-e591-06c37475a90e"
      },
      "source": [
        "print('DTR')\r\n",
        "print('Mean Absolute Error:', metrics.mean_absolute_error(y_test, y_pred_dtr))  \r\n",
        "print('Mean Squared Error:', metrics.mean_squared_error(y_test, y_pred_dtr))  \r\n",
        "print('Root Mean Squared Error:', np.sqrt(metrics.mean_squared_error(y_test, y_pred_dtr))) "
      ],
      "execution_count": 55,
      "outputs": [
        {
          "output_type": "stream",
          "text": [
            "DTR\n",
            "Mean Absolute Error: 0.005443148688046647\n",
            "Mean Squared Error: 4.643878129483081e-05\n",
            "Root Mean Squared Error: 0.006814600596867788\n"
          ],
          "name": "stdout"
        }
      ]
    },
    {
      "cell_type": "markdown",
      "metadata": {
        "id": "saQA7nFInAU9"
      },
      "source": [
        "# RFR model"
      ]
    },
    {
      "cell_type": "code",
      "metadata": {
        "id": "2ACpYy2ym-IT"
      },
      "source": [
        "rfr = RandomForestRegressor()  \r\n",
        "rfr_model = rfr.fit(X_train, y_train)  "
      ],
      "execution_count": 56,
      "outputs": []
    },
    {
      "cell_type": "code",
      "metadata": {
        "colab": {
          "base_uri": "https://localhost:8080/"
        },
        "id": "JBpMikKInVBb",
        "outputId": "0015b2ff-9306-4dc6-e321-f0601b60a5ee"
      },
      "source": [
        "y_pred_rfr = dtr_model.predict(X_test) \r\n",
        "y_pred_rfr"
      ],
      "execution_count": 57,
      "outputs": [
        {
          "output_type": "execute_result",
          "data": {
            "text/plain": [
              "array([0.586     , 0.71      , 0.574     , 0.63666667, 0.62666667,\n",
              "       0.584     , 0.60583333, 0.56      , 0.65      , 0.60583333,\n",
              "       0.584     , 0.59666667, 0.62      , 0.59      , 0.61      ,\n",
              "       0.6       , 0.57625   , 0.63666667, 0.575     , 0.6       ,\n",
              "       0.575     , 0.584     , 0.565     , 0.54      , 0.55      ,\n",
              "       0.57      , 0.57625   , 0.584     , 0.545     , 0.61      ,\n",
              "       0.64      , 0.59571429, 0.62666667, 0.53      , 0.63666667,\n",
              "       0.586     , 0.586     , 0.59666667, 0.584     , 0.62      ,\n",
              "       0.63      , 0.61      , 0.61      , 0.575     , 0.63666667,\n",
              "       0.63      , 0.59666667, 0.56      , 0.584     ])"
            ]
          },
          "metadata": {
            "tags": []
          },
          "execution_count": 57
        }
      ]
    },
    {
      "cell_type": "code",
      "metadata": {
        "colab": {
          "base_uri": "https://localhost:8080/"
        },
        "id": "HwycgMewnWDm",
        "outputId": "3ae800ec-82d5-4d78-ca38-3efef8ac3fbe"
      },
      "source": [
        "print('RFR')\r\n",
        "print('Mean Absolute Error:', metrics.mean_absolute_error(y_test, y_pred_rfr))  \r\n",
        "print('Mean Squared Error:', metrics.mean_squared_error(y_test, y_pred_rfr))  \r\n",
        "print('Root Mean Squared Error:', np.sqrt(metrics.mean_squared_error(y_test, y_pred_rfr))) "
      ],
      "execution_count": 58,
      "outputs": [
        {
          "output_type": "stream",
          "text": [
            "RFR\n",
            "Mean Absolute Error: 0.005443148688046647\n",
            "Mean Squared Error: 4.643878129483081e-05\n",
            "Root Mean Squared Error: 0.006814600596867788\n"
          ],
          "name": "stdout"
        }
      ]
    }
  ]
}